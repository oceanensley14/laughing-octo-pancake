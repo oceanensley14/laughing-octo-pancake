{
  "nbformat": 4,
  "nbformat_minor": 0,
  "metadata": {
    "colab": {
      "provenance": [],
      "authorship_tag": "ABX9TyPl+N/IR4eKlW4SO5VMEKuP",
      "include_colab_link": true
    },
    "kernelspec": {
      "name": "python3",
      "display_name": "Python 3"
    },
    "language_info": {
      "name": "python"
    }
  },
  "cells": [
    {
      "cell_type": "markdown",
      "metadata": {
        "id": "view-in-github",
        "colab_type": "text"
      },
      "source": [
        "<a href=\"https://colab.research.google.com/github/oceanensley14/laughing-octo-pancake/blob/main/Untitled0.ipynb\" target=\"_parent\"><img src=\"https://colab.research.google.com/assets/colab-badge.svg\" alt=\"Open In Colab\"/></a>"
      ]
    },
    {
      "cell_type": "code",
      "execution_count": 6,
      "metadata": {
        "id": "_bjD7LTk-aGN"
      },
      "outputs": [],
      "source": [
        "def QuadracticSolver (a, b, c):\n",
        "  import math\n",
        "  discriminant = b**2 - 4*a*c\n",
        "  if discriminant == 0:\n",
        "      roots = 'There is one real root'\n",
        "      root1 = (-b + math.sqrt((b**2 - 4*a*c)))/2*a\n",
        "      print(roots)\n",
        "      print('x = ' + str(round(root1,2)))\n",
        "  elif discriminant > 0:\n",
        "      roots = 'There are two real roots'\n",
        "      root1 = (-b + math.sqrt((b**2 - 4*a*c)))/2*a\n",
        "      root2 = (-b - math.sqrt((b**2 - 4*a*c)))/2*a\n",
        "      print(roots)\n",
        "      print('x = ' + str(round(root1,2)) + ' or ' + str(round(root2,2)))\n",
        "  elif discriminant < 0:\n",
        "      roots = 'There are no real roots'\n",
        "      print(roots)\n"
      ]
    }
  ]
}