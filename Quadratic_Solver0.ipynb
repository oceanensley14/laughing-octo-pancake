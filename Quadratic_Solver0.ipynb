{
  "nbformat": 4,
  "nbformat_minor": 0,
  "metadata": {
    "colab": {
      "provenance": [],
      "authorship_tag": "ABX9TyPsPvT508U/lJAo0HMgVmVG",
      "include_colab_link": true
    },
    "kernelspec": {
      "name": "python3",
      "display_name": "Python 3"
    },
    "language_info": {
      "name": "python"
    }
  },
  "cells": [
    {
      "cell_type": "markdown",
      "metadata": {
        "id": "view-in-github",
        "colab_type": "text"
      },
      "source": [
        "<a href=\"https://colab.research.google.com/github/oceanensley14/laughing-octo-pancake/blob/main/Quadratic_Solver0.ipynb\" target=\"_parent\"><img src=\"https://colab.research.google.com/assets/colab-badge.svg\" alt=\"Open In Colab\"/></a>"
      ]
    },
    {
      "cell_type": "code",
      "execution_count": 4,
      "metadata": {
        "colab": {
          "base_uri": "https://localhost:8080/"
        },
        "id": "VdrqcQzl0wsL",
        "outputId": "12dc3132-504e-4499-ccae-b1b24f4b480e"
      },
      "outputs": [
        {
          "output_type": "stream",
          "name": "stdout",
          "text": [
            "Quadractic Equation: ax**2 + bx + c = 0\n",
            "What is a: 1\n",
            "What is b: 5\n",
            "What is c: 6\n",
            "Current Equation: 1x**2 + 5x + 6 =0, are :\n",
            "Type of Roots : Two Distinct Real Roots\n",
            "The solutions are (-3+0j) and (-2+0j)\n"
          ]
        }
      ],
      "source": [
        "import cmath\n",
        "print(\"Quadractic Equation: ax**2 + bx + c = 0\")\n",
        "a = int(input(\"What is a: \"))\n",
        "b = int(input(\"What is b: \"))\n",
        "c = int(input(\"What is c: \"))\n",
        "d = (b**2) - (4*a*c)\n",
        "sol1 = (-b-cmath.sqrt(d))/(2*a)\n",
        "sol2 = (-b+cmath.sqrt(d))/(2*a)\n",
        "print(f\"Current Equation: {a}x**2 + {b}x + {c} =0, are :\")\n",
        "if d > 0:\n",
        "  print(\"Type of Roots : Two Distinct Real Roots\")\n",
        "elif d == 0:\n",
        "  print(\"Type of Roots : Two Equal Real Roots\")\n",
        "elif d < 0:\n",
        "  print(\"Type of Roots : Two Complec Roots\")\n",
        "print(f\"The solutions are {sol1} and {sol2}\")"
      ]
    }
  ]
}