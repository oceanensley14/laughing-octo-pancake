{
  "nbformat": 4,
  "nbformat_minor": 0,
  "metadata": {
    "colab": {
      "provenance": [],
      "authorship_tag": "ABX9TyMpFJk3RGgOpWMmENsP70c6",
      "include_colab_link": true
    },
    "kernelspec": {
      "name": "python3",
      "display_name": "Python 3"
    },
    "language_info": {
      "name": "python"
    }
  },
  "cells": [
    {
      "cell_type": "markdown",
      "metadata": {
        "id": "view-in-github",
        "colab_type": "text"
      },
      "source": [
        "<a href=\"https://colab.research.google.com/github/oceanensley14/laughing-octo-pancake/blob/main/Quadratic_Solver0.ipynb\" target=\"_parent\"><img src=\"https://colab.research.google.com/assets/colab-badge.svg\" alt=\"Open In Colab\"/></a>"
      ]
    },
    {
      "cell_type": "code",
      "execution_count": 38,
      "metadata": {
        "colab": {
          "base_uri": "https://localhost:8080/",
          "height": 270
        },
        "id": "VdrqcQzl0wsL",
        "outputId": "9856c1e2-dc30-4234-aa2a-700d2f6071bb"
      },
      "outputs": [
        {
          "name": "stdout",
          "output_type": "stream",
          "text": [
            "Quadractic Equation: ax**2 + bx + c = 0\n",
            "What is a: w\n"
          ]
        },
        {
          "output_type": "error",
          "ename": "ValueError",
          "evalue": "ignored",
          "traceback": [
            "\u001b[0;31m---------------------------------------------------------------------------\u001b[0m",
            "\u001b[0;31mValueError\u001b[0m                                Traceback (most recent call last)",
            "\u001b[0;32m<ipython-input-38-7a78def6813e>\u001b[0m in \u001b[0;36m<cell line: 3>\u001b[0;34m()\u001b[0m\n\u001b[1;32m      1\u001b[0m \u001b[0;32mimport\u001b[0m \u001b[0mcmath\u001b[0m\u001b[0;34m\u001b[0m\u001b[0;34m\u001b[0m\u001b[0m\n\u001b[1;32m      2\u001b[0m \u001b[0mprint\u001b[0m\u001b[0;34m(\u001b[0m\u001b[0;34m\"Quadractic Equation: ax**2 + bx + c = 0\"\u001b[0m\u001b[0;34m)\u001b[0m\u001b[0;34m\u001b[0m\u001b[0;34m\u001b[0m\u001b[0m\n\u001b[0;32m----> 3\u001b[0;31m \u001b[0ma\u001b[0m \u001b[0;34m=\u001b[0m \u001b[0mint\u001b[0m\u001b[0;34m(\u001b[0m\u001b[0minput\u001b[0m\u001b[0;34m(\u001b[0m\u001b[0;34m\"What is a: \"\u001b[0m\u001b[0;34m)\u001b[0m\u001b[0;34m)\u001b[0m\u001b[0;34m\u001b[0m\u001b[0;34m\u001b[0m\u001b[0m\n\u001b[0m\u001b[1;32m      4\u001b[0m \u001b[0mb\u001b[0m \u001b[0;34m=\u001b[0m \u001b[0mint\u001b[0m\u001b[0;34m(\u001b[0m\u001b[0minput\u001b[0m\u001b[0;34m(\u001b[0m\u001b[0;34m\"What is b: \"\u001b[0m\u001b[0;34m)\u001b[0m\u001b[0;34m)\u001b[0m\u001b[0;34m\u001b[0m\u001b[0;34m\u001b[0m\u001b[0m\n\u001b[1;32m      5\u001b[0m \u001b[0mc\u001b[0m \u001b[0;34m=\u001b[0m \u001b[0mint\u001b[0m\u001b[0;34m(\u001b[0m\u001b[0minput\u001b[0m\u001b[0;34m(\u001b[0m\u001b[0;34m\"What is c: \"\u001b[0m\u001b[0;34m)\u001b[0m\u001b[0;34m)\u001b[0m\u001b[0;34m\u001b[0m\u001b[0;34m\u001b[0m\u001b[0m\n",
            "\u001b[0;31mValueError\u001b[0m: invalid literal for int() with base 10: 'w'"
          ]
        }
      ],
      "source": [
        "import cmath\n",
        "print(\"Quadractic Equation: ax**2 + bx + c = 0\")\n",
        "a = int(input(\"What is a: \"))\n",
        "b = int(input(\"What is b: \"))\n",
        "c = int(input(\"What is c: \"))\n",
        "d = (b**2) - (4*a*c)\n",
        "sol1 = (-b-cmath.sqrt(d))/(2*a)\n",
        "sol2 = (-b+cmath.sqrt(d))/(2*a)\n",
        "print(f\"Current Equation: {a}x**2 + {b}x + {c} =0, are :\")\n",
        "if d > 0:\n",
        "  print(\"Type of Roots : Two Distinct Real Roots\")\n",
        "elif d == 0:\n",
        "  print(\"Type of Roots : Two Equal Real Roots\")\n",
        "elif d < 0:\n",
        "  print(\"Type of Roots : Two Complec Roots\")\n",
        "print(f\"The solutions are {sol1} and {sol2}\")"
      ]
    },
    {
      "cell_type": "code",
      "source": [
        "print('Quadractic Formula is a**2x + bx + c = 0')\n",
        "print('My program can only accept integers, not wording')\n",
        "while True:\n",
        "    a = input('what is a: ')\n",
        "    b = input('what is b: ')\n",
        "    c = input('what is c: ')\n",
        "    try:\n",
        "      a = int(a)\n",
        "      b = int(b)\n",
        "      c = int(c)\n",
        "      d = (b**2) - (4*a*c)\n",
        "      print('the value of the discriminat is', d)\n",
        "      sol1 = (-b+d**0.5)/(2*a)\n",
        "      sol2 = (-b-d**0.5)/(2*a)\n",
        "      print(\"x =\",sol1,\"and\",sol2)\n",
        "      break\n",
        "    except ValueError:\n",
        "      print('only use numbers')\n",
        "      continue"
      ],
      "metadata": {
        "id": "jqr5TG8h3EJy",
        "outputId": "ee5d5062-fcb8-4513-c829-e9690cb76fbb",
        "colab": {
          "base_uri": "https://localhost:8080/"
        }
      },
      "execution_count": 60,
      "outputs": [
        {
          "output_type": "stream",
          "name": "stdout",
          "text": [
            "Quadractic Formula is a**2x + bx + c = 0\n",
            "My program can only accept integers, not wording\n",
            "what is a: r\n",
            "what is b: 5\n",
            "what is c: 6\n",
            "only use numbers\n",
            "what is a: 1\n",
            "what is b: 5\n",
            "what is c: 6\n",
            "the value of the discriminat is 1\n",
            "x = -2.0 and -3.0\n"
          ]
        }
      ]
    }
  ]
}