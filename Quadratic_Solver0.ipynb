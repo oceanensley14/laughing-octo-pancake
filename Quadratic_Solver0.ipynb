{
  "nbformat": 4,
  "nbformat_minor": 0,
  "metadata": {
    "colab": {
      "provenance": [],
      "authorship_tag": "ABX9TyNSC0b8ODWtSllSL6cFmj+Q",
      "include_colab_link": true
    },
    "kernelspec": {
      "name": "python3",
      "display_name": "Python 3"
    },
    "language_info": {
      "name": "python"
    }
  },
  "cells": [
    {
      "cell_type": "markdown",
      "metadata": {
        "id": "view-in-github",
        "colab_type": "text"
      },
      "source": [
        "<a href=\"https://colab.research.google.com/github/oceanensley14/laughing-octo-pancake/blob/main/Quadratic_Solver0.ipynb\" target=\"_parent\"><img src=\"https://colab.research.google.com/assets/colab-badge.svg\" alt=\"Open In Colab\"/></a>"
      ]
    },
    {
      "cell_type": "code",
      "execution_count": null,
      "metadata": {
        "colab": {
          "base_uri": "https://localhost:8080/"
        },
        "id": "VdrqcQzl0wsL",
        "outputId": "41179c33-e450-4094-b91d-988218bdea52"
      },
      "outputs": [
        {
          "output_type": "stream",
          "name": "stdout",
          "text": [
            "General Form: ax**2 + bx + c = 0\n"
          ]
        }
      ],
      "source": [
        "import cmath\n",
        "print(\"General Form: ax**2 + bx + c = 0\")\n",
        "a = int(input(\"Enter a: \"))\n",
        "b = int(input(\"Enter b: \"))\n",
        "c = int(input(\"Enter c: \"))\n",
        "d = (b**2) - (4*a*c)\n",
        "sol1 = (-b-cmath.sqrt(d))/(2*a)\n",
        "sol2 = (-b+cmath.sqrt(d))/(2*a)\n",
        "print(\"\\n\")\n",
        "print(f\"Results for equation, {a}x**2 + {b}x + {c} =0, are : \\n\")\n",
        "if d > 0:\n",
        "  print(\"Type of Roots : Two Distinct Real Roots\")\n",
        "elif d == 0:\n",
        "  print(\"Type of Roots : Two Equal Real Roots\")\n",
        "elif d < 0:\n",
        "  print(\"Type of Roots : Two Complec Roots\")\n",
        "print(f\"The solutions are {sol1} and {sol2}\")"
      ]
    }
  ]
}